{
  "nbformat": 4,
  "nbformat_minor": 0,
  "metadata": {
    "colab": {
      "provenance": [],
      "authorship_tag": "ABX9TyOTuTkV5IOkdx3ABu+3K1c3",
      "include_colab_link": true
    },
    "kernelspec": {
      "name": "python3",
      "display_name": "Python 3"
    },
    "language_info": {
      "name": "python"
    }
  },
  "cells": [
    {
      "cell_type": "markdown",
      "metadata": {
        "id": "view-in-github",
        "colab_type": "text"
      },
      "source": [
        "<a href=\"https://colab.research.google.com/github/Nyxnoxz/SudoSwap/blob/main/YOLT.ipynb\" target=\"_parent\"><img src=\"https://colab.research.google.com/assets/colab-badge.svg\" alt=\"Open In Colab\"/></a>"
      ]
    },
    {
      "cell_type": "code",
      "execution_count": 1,
      "metadata": {
        "colab": {
          "base_uri": "https://localhost:8080/"
        },
        "id": "05iMzNXLEJVg",
        "outputId": "51ba6ae8-6f1d-4074-ca0b-a557dbda00c2"
      },
      "outputs": [
        {
          "output_type": "stream",
          "name": "stdout",
          "text": [
            "Cloning into 'yolt'...\n",
            "remote: Enumerating objects: 1327, done.\u001b[K\n",
            "remote: Total 1327 (delta 0), reused 0 (delta 0), pack-reused 1327 (from 1)\u001b[K\n",
            "Receiving objects: 100% (1327/1327), 3.31 MiB | 17.84 MiB/s, done.\n",
            "Resolving deltas: 100% (281/281), done.\n"
          ]
        }
      ],
      "source": [
        "!git clone https://github.com/avanetten/yolt.git"
      ]
    },
    {
      "cell_type": "code",
      "source": [
        "!pip install numpy opencv-python-headless matplotlib pillow tqdm\n"
      ],
      "metadata": {
        "id": "Ky8wSuWxETLN",
        "colab": {
          "base_uri": "https://localhost:8080/"
        },
        "outputId": "b99b04a2-1dd8-4f45-8636-d51ac059d0ea"
      },
      "execution_count": 2,
      "outputs": [
        {
          "output_type": "stream",
          "name": "stdout",
          "text": [
            "Requirement already satisfied: numpy in /usr/local/lib/python3.10/dist-packages (1.26.4)\n",
            "Requirement already satisfied: opencv-python-headless in /usr/local/lib/python3.10/dist-packages (4.10.0.84)\n",
            "Requirement already satisfied: matplotlib in /usr/local/lib/python3.10/dist-packages (3.7.1)\n",
            "Requirement already satisfied: pillow in /usr/local/lib/python3.10/dist-packages (10.4.0)\n",
            "Requirement already satisfied: tqdm in /usr/local/lib/python3.10/dist-packages (4.66.5)\n",
            "Requirement already satisfied: contourpy>=1.0.1 in /usr/local/lib/python3.10/dist-packages (from matplotlib) (1.3.0)\n",
            "Requirement already satisfied: cycler>=0.10 in /usr/local/lib/python3.10/dist-packages (from matplotlib) (0.12.1)\n",
            "Requirement already satisfied: fonttools>=4.22.0 in /usr/local/lib/python3.10/dist-packages (from matplotlib) (4.54.1)\n",
            "Requirement already satisfied: kiwisolver>=1.0.1 in /usr/local/lib/python3.10/dist-packages (from matplotlib) (1.4.7)\n",
            "Requirement already satisfied: packaging>=20.0 in /usr/local/lib/python3.10/dist-packages (from matplotlib) (24.1)\n",
            "Requirement already satisfied: pyparsing>=2.3.1 in /usr/local/lib/python3.10/dist-packages (from matplotlib) (3.2.0)\n",
            "Requirement already satisfied: python-dateutil>=2.7 in /usr/local/lib/python3.10/dist-packages (from matplotlib) (2.8.2)\n",
            "Requirement already satisfied: six>=1.5 in /usr/local/lib/python3.10/dist-packages (from python-dateutil>=2.7->matplotlib) (1.16.0)\n"
          ]
        }
      ]
    },
    {
      "cell_type": "code",
      "source": [
        "!2to3 -w scripts/yolt2.py\n"
      ],
      "metadata": {
        "colab": {
          "base_uri": "https://localhost:8080/"
        },
        "id": "v4JtUqUaQbEx",
        "outputId": "8f96c734-a488-4ed5-92ea-479aa315ad98"
      },
      "execution_count": 3,
      "outputs": [
        {
          "output_type": "stream",
          "name": "stdout",
          "text": [
            "/bin/bash: line 1: 2to3: command not found\n"
          ]
        }
      ]
    },
    {
      "cell_type": "code",
      "source": [
        "!python yolt/scripts/yolt2.py \\\n",
        "    --mode train \\\n",
        "    --outname example_boats_planes \\\n",
        "    --object_labels_str airplane \\\n",
        "    --cfg_file yolo.cfg \\\n",
        "    --train_images_list_file data/boat_plane_all.txt \\\n",
        "    --gpu 0\n"
      ],
      "metadata": {
        "colab": {
          "base_uri": "https://localhost:8080/"
        },
        "id": "zUQMGHzLQuer",
        "outputId": "6ec61313-e623-44f0-a2a1-46c064f89e58"
      },
      "execution_count": 31,
      "outputs": [
        {
          "output_type": "stream",
          "name": "stdout",
          "text": [
            "\n",
            "Permit me to introduce myself...\n",
            "\n",
            "Well, I’m glad we got that out of the way.\n",
            "\n",
            "\n",
            "\n",
            "\n",
            "Run YOLT2\n",
            "Date string: 2024_10_28_13-50-27\n",
            "cfg_file: /content/yolt/cfg/yolo.cfg\n",
            "log_dir: /content/yolt/results/train_example_boats_planes_cfg=yolo_2024_10_28_13-50-27/logs\n",
            "Updating yolt params in files...\n",
            "Final output layer size: 30\n",
            "side size: 13\n",
            "batch_size: 32\n",
            "subdivisions: 4\n",
            "Command:\n",
            " nohup ./darknet -i 0 yolt2 train /content/yolt/results/train_example_boats_planes_cfg=yolo_2024_10_28_13-50-27/logs/yolo.cfg /content/yolt/input_weights/yolo.weights null 0 0.0 /content/yolt/data/data/boat_plane_all.txt /content/yolt/results/train_example_boats_planes_cfg=yolo_2024_10_28_13-50-27 null airplane 1 3 /content/yolt/results/train_example_boats_planes_cfg=yolo_2024_10_28_13-50-27/logs/loss.txt  >> /content/yolt/results/train_example_boats_planes_cfg=yolo_2024_10_28_13-50-27/logs/train_example_boats_planes_cfg=yolo_2024_10_28_13-50-27.log & tail -f /content/yolt/results/train_example_boats_planes_cfg=yolo_2024_10_28_13-50-27/logs/train_example_boats_planes_cfg=yolo_2024_10_28_13-50-27.log\n",
            "\n",
            "outcmd: nohup ./darknet -i 0 yolt2 train /content/yolt/results/train_example_boats_planes_cfg=yolo_2024_10_28_13-50-27/logs/yolo.cfg /content/yolt/input_weights/yolo.weights null 0 0.0 /content/yolt/data/data/boat_plane_all.txt /content/yolt/results/train_example_boats_planes_cfg=yolo_2024_10_28_13-50-27 null airplane 1 3 /content/yolt/results/train_example_boats_planes_cfg=yolo_2024_10_28_13-50-27/logs/loss.txt  >> /content/yolt/results/train_example_boats_planes_cfg=yolo_2024_10_28_13-50-27/logs/train_example_boats_planes_cfg=yolo_2024_10_28_13-50-27.log & tail -f /content/yolt/results/train_example_boats_planes_cfg=yolo_2024_10_28_13-50-27/logs/train_example_boats_planes_cfg=yolo_2024_10_28_13-50-27.log\n",
            "\"\n",
            "Args: Namespace(mode='train', gpu=0, nbands=3, outname='example_boats_planes', cfg_file='yolo.cfg', object_labels_str='airplane', single_gpu_machine=0, weight_file='yolo.weights', keep_valid_slices='FALSE', train_images_list_file='data/boat_plane_all.txt', max_batches=60000, batch_size=32, subdivisions=4, valid_weight_dir='', valid_testims_dir='', plot_thresh_str='0.3', slice_sizes_str='416', edge_buffer_valid=-1000, max_edge_aspect_ratio=3, slice_overlap=0.35, nms_overlap=0.5, extra_pkl='', c_nms_thresh=0.0, valid_box_rescale_frac=1.0, valid_make_pngs='FALSE', valid_make_legend_and_title='TRUE', valid_im_compression_level=6, make_valid_pkl=1, test_im='person.jpg', test_thresh=0.2, test_labels='coco.names', yolt_dir='/content/yolt/', use_opencv='1', boxes_per_grid=5, multi_band_delim='#', zero_frac_thresh=0.5, show_valid_plots=0, plot_names=0, rotate_boxes=0, plot_line_thickness=2, str_delim=',', valid_files_txt='', valid_results_files='', valid_split_dir_list='', results_topdir='/content/yolt/results/', test_images_dir='/content/yolt/test_images/', data_dir='/content/yolt/data/', weight_dir='/content/yolt/input_weights/', cfg_dir='/content/yolt/cfg/', label_image_dir='/content/yolt/data/category_label_images/', this_file='/content/yolt/scripts/yolt2.py', plot_file='/content/yolt/scripts/yolt_plot_loss.py', extension_list=['.png', '.tif', '.TIF', '.TIFF', '.tiff', '.JPG', '.jpg', '.JPEG', '.jpeg'], object_labels=['airplane'], plot_thresh=array([0.3]), slice_sizes=array([416]), train_images_list_file_tot='/content/yolt/data/data/boat_plane_all.txt', valid_weight_dir_tot='/content/yolt/results/', valid_testims_dir_tot='/content/yolt/test_images/', valid_testims_list=['header.jpg'], side=13, classnum=1, final_output=30, use_GPU=1, use_CUDNN=1, test_im_tot='/content/yolt/test_images/person.jpg', now=datetime.datetime(2024, 10, 28, 13, 50, 27, 900753), date_string='2024_10_28_13-50-27', res_name='train_example_boats_planes_cfg=yolo_2024_10_28_13-50-27', results_dir='/content/yolt/results/train_example_boats_planes_cfg=yolo_2024_10_28_13-50-27', log_dir='/content/yolt/results/train_example_boats_planes_cfg=yolo_2024_10_28_13-50-27/logs', log_file='/content/yolt/results/train_example_boats_planes_cfg=yolo_2024_10_28_13-50-27/logs/train_example_boats_planes_cfg=yolo_2024_10_28_13-50-27.log', loss_file='/content/yolt/results/train_example_boats_planes_cfg=yolo_2024_10_28_13-50-27/logs/loss.txt', cfg_file_tot='/content/yolt/results/train_example_boats_planes_cfg=yolo_2024_10_28_13-50-27/logs/yolo.cfg', cfg_file_in='/content/yolt/cfg/yolo.cfg', weight_file_tot='/content/yolt/input_weights/yolo.weights', figsize=(12, 12), dpi=300)\n",
            "\"\n",
            "    \n",
            "    print (\"\\nPermit me to introduce myself...\\n\\n\" \\\n",
            "            \"Well, I’m glad we got that out of the way.\\n\\n\\n\\n\")\n",
            "    main()\n",
            "    \n",
            "###############################################################################\n",
            "###############################################################################\n",
            "\n",
            "Args: Namespace(mode='train', gpu=0, nbands=3, outname='example_boats_planes', cfg_file='yolo.cfg', object_labels_str='airplane', single_gpu_machine=0, weight_file='yolo.weights', keep_valid_slices='FALSE', train_images_list_file='data/boat_plane_all.txt', max_batches=60000, batch_size=32, subdivisions=4, valid_weight_dir='', valid_testims_dir='', plot_thresh_str='0.3', slice_sizes_str='416', edge_buffer_valid=-1000, max_edge_aspect_ratio=3, slice_overlap=0.35, nms_overlap=0.5, extra_pkl='', c_nms_thresh=0.0, valid_box_rescale_frac=1.0, valid_make_pngs='FALSE', valid_make_legend_and_title='TRUE', valid_im_compression_level=6, make_valid_pkl=1, test_im='person.jpg', test_thresh=0.2, test_labels='coco.names', yolt_dir='/content/yolt/', use_opencv='1', boxes_per_grid=5, multi_band_delim='#', zero_frac_thresh=0.5, show_valid_plots=0, plot_names=0, rotate_boxes=0, plot_line_thickness=2, str_delim=',', valid_files_txt='', valid_results_files='', valid_split_dir_list='', results_topdir='/content/yolt/results/', test_images_dir='/content/yolt/test_images/', data_dir='/content/yolt/data/', weight_dir='/content/yolt/input_weights/', cfg_dir='/content/yolt/cfg/', label_image_dir='/content/yolt/data/category_label_images/', this_file='/content/yolt/scripts/yolt2.py', plot_file='/content/yolt/scripts/yolt_plot_loss.py', extension_list=['.png', '.tif', '.TIF', '.TIFF', '.tiff', '.JPG', '.jpg', '.JPEG', '.jpeg'], object_labels=['airplane'], plot_thresh=array([0.3]), slice_sizes=array([416]), train_images_list_file_tot='/content/yolt/data/data/boat_plane_all.txt', valid_weight_dir_tot='/content/yolt/results/', valid_testims_dir_tot='/content/yolt/test_images/', valid_testims_list=['header.jpg'], side=13, classnum=1, final_output=30, use_GPU=1, use_CUDNN=1, test_im_tot='/content/yolt/test_images/person.jpg', now=datetime.datetime(2024, 10, 28, 13, 50, 27, 900753), date_string='2024_10_28_13-50-27', res_name='train_example_boats_planes_cfg=yolo_2024_10_28_13-50-27', results_dir='/content/yolt/results/train_example_boats_planes_cfg=yolo_2024_10_28_13-50-27', log_dir='/content/yolt/results/train_example_boats_planes_cfg=yolo_2024_10_28_13-50-27/logs', log_file='/content/yolt/results/train_example_boats_planes_cfg=yolo_2024_10_28_13-50-27/logs/train_example_boats_planes_cfg=yolo_2024_10_28_13-50-27.log', loss_file='/content/yolt/results/train_example_boats_planes_cfg=yolo_2024_10_28_13-50-27/logs/loss.txt', cfg_file_tot='/content/yolt/results/train_example_boats_planes_cfg=yolo_2024_10_28_13-50-27/logs/yolo.cfg', cfg_file_in='/content/yolt/cfg/yolo.cfg', weight_file_tot='/content/yolt/input_weights/yolo.weights', figsize=(12, 12), dpi=300)\n",
            "\n",
            "nohup: redirecting stderr to stdout\n",
            "nohup: failed to run command './darknet': No such file or directory\n",
            "\"Length of time to run command: nohup ./darknet -i 0 yolt2 train /content/yolt/results/train_example_boats_planes_cfg=yolo_2024_10_28_13-50-27/logs/yolo.cfg /content/yolt/input_weights/yolo.weights null 0 0.0 /content/yolt/data/data/boat_plane_all.txt /content/yolt/results/train_example_boats_planes_cfg=yolo_2024_10_28_13-50-27 null airplane 1 3 /content/yolt/results/train_example_boats_planes_cfg=yolo_2024_10_28_13-50-27/logs/loss.txt  >> /content/yolt/results/train_example_boats_planes_cfg=yolo_2024_10_28_13-50-27/logs/train_example_boats_planes_cfg=yolo_2024_10_28_13-50-27.log & tail -f /content/yolt/results/train_example_boats_planes_cfg=yolo_2024_10_28_13-50-27/logs/train_example_boats_planes_cfg=yolo_2024_10_28_13-50-27.log 94.17338609695435 seconds\n",
            "\"\n"
          ]
        }
      ]
    },
    {
      "cell_type": "code",
      "source": [
        "!cd /content/yolt && make\n"
      ],
      "metadata": {
        "colab": {
          "base_uri": "https://localhost:8080/"
        },
        "id": "eXlJUQKhZexa",
        "outputId": "51d5a2f8-793a-4210-ea19-b547fe604a9f"
      },
      "execution_count": 33,
      "outputs": [
        {
          "output_type": "stream",
          "name": "stdout",
          "text": [
            "gcc -DOPENCV `pkg-config --cflags opencv`  -DGPU -I/usr/local/cuda/include/ -DCUDNN  -Wall -Wfatal-errors  -Ofast -DOPENCV -DGPU -DCUDNN -c ./src/gemm.c -o obj/gemm.o\n",
            "Package opencv was not found in the pkg-config search path.\n",
            "Perhaps you should add the directory containing `opencv.pc'\n",
            "to the PKG_CONFIG_PATH environment variable\n",
            "Package 'opencv', required by 'virtual:world', not found\n",
            "\u001b[01m\u001b[K./src/gemm.c:\u001b[m\u001b[K In function ‘\u001b[01m\u001b[Ktime_ongpu\u001b[m\u001b[K’:\n",
            "\u001b[01m\u001b[K./src/gemm.c:246:9:\u001b[m\u001b[K \u001b[01;35m\u001b[Kwarning: \u001b[m\u001b[K‘\u001b[01m\u001b[KcudaThreadSynchronize\u001b[m\u001b[K’ is deprecated [\u001b[01;35m\u001b[K\u001b]8;;https://gcc.gnu.org/onlinedocs/gcc/Warning-Options.html#index-Wdeprecated-declarations\u0007-Wdeprecated-declarations\u001b]8;;\u0007\u001b[m\u001b[K]\n",
            "  246 |         \u001b[01;35m\u001b[KcudaThreadSynchronize\u001b[m\u001b[K();\n",
            "      |         \u001b[01;35m\u001b[K^~~~~~~~~~~~~~~~~~~~~\u001b[m\u001b[K\n",
            "In file included from \u001b[01m\u001b[K/usr/local/cuda/include/cuda_runtime.h:95\u001b[m\u001b[K,\n",
            "                 from \u001b[01m\u001b[K./src/cuda.h:10\u001b[m\u001b[K,\n",
            "                 from \u001b[01m\u001b[K./src/gemm.c:3\u001b[m\u001b[K:\n",
            "\u001b[01m\u001b[K/usr/local/cuda/include/cuda_runtime_api.h:1069:57:\u001b[m\u001b[K \u001b[01;36m\u001b[Knote: \u001b[m\u001b[Kdeclared here\n",
            " 1069 | extern __CUDA_DEPRECATED __host__ cudaError_t CUDARTAPI \u001b[01;36m\u001b[KcudaThreadSynchronize\u001b[m\u001b[K(void);\n",
            "      |                                                         \u001b[01;36m\u001b[K^~~~~~~~~~~~~~~~~~~~~\u001b[m\u001b[K\n",
            "gcc -DOPENCV `pkg-config --cflags opencv`  -DGPU -I/usr/local/cuda/include/ -DCUDNN  -Wall -Wfatal-errors  -Ofast -DOPENCV -DGPU -DCUDNN -c ./src/utils.c -o obj/utils.o\n",
            "Package opencv was not found in the pkg-config search path.\n",
            "Perhaps you should add the directory containing `opencv.pc'\n",
            "to the PKG_CONFIG_PATH environment variable\n",
            "Package 'opencv', required by 'virtual:world', not found\n",
            "\u001b[01m\u001b[K./src/utils.c:\u001b[m\u001b[K In function ‘\u001b[01m\u001b[Kfgetl\u001b[m\u001b[K’:\n",
            "\u001b[01m\u001b[K./src/utils.c:280:9:\u001b[m\u001b[K \u001b[01;35m\u001b[Kwarning: \u001b[m\u001b[Kignoring return value of ‘\u001b[01m\u001b[Kfgets\u001b[m\u001b[K’ declared with attribute ‘\u001b[01m\u001b[Kwarn_unused_result\u001b[m\u001b[K’ [\u001b[01;35m\u001b[K\u001b]8;;https://gcc.gnu.org/onlinedocs/gcc/Warning-Options.html#index-Wunused-result\u0007-Wunused-result\u001b]8;;\u0007\u001b[m\u001b[K]\n",
            "  280 |         \u001b[01;35m\u001b[Kfgets(&line[curr], readsize, fp)\u001b[m\u001b[K;\n",
            "      |         \u001b[01;35m\u001b[K^~~~~~~~~~~~~~~~~~~~~~~~~~~~~~~~\u001b[m\u001b[K\n",
            "gcc -DOPENCV `pkg-config --cflags opencv`  -DGPU -I/usr/local/cuda/include/ -DCUDNN  -Wall -Wfatal-errors  -Ofast -DOPENCV -DGPU -DCUDNN -c ./src/cuda.c -o obj/cuda.o\n",
            "Package opencv was not found in the pkg-config search path.\n",
            "Perhaps you should add the directory containing `opencv.pc'\n",
            "to the PKG_CONFIG_PATH environment variable\n",
            "Package 'opencv', required by 'virtual:world', not found\n",
            "gcc -DOPENCV `pkg-config --cflags opencv`  -DGPU -I/usr/local/cuda/include/ -DCUDNN  -Wall -Wfatal-errors  -Ofast -DOPENCV -DGPU -DCUDNN -c ./src/convolutional_layer.c -o obj/convolutional_layer.o\n",
            "Package opencv was not found in the pkg-config search path.\n",
            "Perhaps you should add the directory containing `opencv.pc'\n",
            "to the PKG_CONFIG_PATH environment variable\n",
            "Package 'opencv', required by 'virtual:world', not found\n",
            "\u001b[01m\u001b[K./src/convolutional_layer.c:\u001b[m\u001b[K In function ‘\u001b[01m\u001b[Kcudnn_convolutional_setup\u001b[m\u001b[K’:\n",
            "\u001b[01m\u001b[K./src/convolutional_layer.c:148:5:\u001b[m\u001b[K \u001b[01;35m\u001b[Kwarning: \u001b[m\u001b[Kimplicit declaration of function ‘\u001b[01m\u001b[KcudnnGetConvolutionForwardAlgorithm\u001b[m\u001b[K’; did you mean ‘\u001b[01m\u001b[KcudnnGetConvolutionForwardAlgorithm_v7\u001b[m\u001b[K’? [\u001b[01;35m\u001b[K\u001b]8;;https://gcc.gnu.org/onlinedocs/gcc/Warning-Options.html#index-Wimplicit-function-declaration\u0007-Wimplicit-function-declaration\u001b]8;;\u0007\u001b[m\u001b[K]\n",
            "  148 |     \u001b[01;35m\u001b[KcudnnGetConvolutionForwardAlgorithm\u001b[m\u001b[K(cudnn_handle(),\n",
            "      |     \u001b[01;35m\u001b[K^~~~~~~~~~~~~~~~~~~~~~~~~~~~~~~~~~~\u001b[m\u001b[K\n",
            "      |     \u001b[32m\u001b[KcudnnGetConvolutionForwardAlgorithm_v7\u001b[m\u001b[K\n",
            "\u001b[01m\u001b[K./src/convolutional_layer.c:153:13:\u001b[m\u001b[K \u001b[01;31m\u001b[Kerror: \u001b[m\u001b[K‘\u001b[01m\u001b[KCUDNN_CONVOLUTION_FWD_PREFER_FASTEST\u001b[m\u001b[K’ undeclared (first use in this function); did you mean ‘\u001b[01m\u001b[KCUDNN_CONVOLUTION_BWD_FILTER_ALGO_3\u001b[m\u001b[K’?\n",
            "  153 |             \u001b[01;31m\u001b[KCUDNN_CONVOLUTION_FWD_PREFER_FASTEST\u001b[m\u001b[K,\n",
            "      |             \u001b[01;31m\u001b[K^~~~~~~~~~~~~~~~~~~~~~~~~~~~~~~~~~~~\u001b[m\u001b[K\n",
            "      |             \u001b[32m\u001b[KCUDNN_CONVOLUTION_BWD_FILTER_ALGO_3\u001b[m\u001b[K\n",
            "compilation terminated due to -Wfatal-errors.\n",
            "make: *** [Makefile:68: obj/convolutional_layer.o] Error 1\n"
          ]
        }
      ]
    },
    {
      "cell_type": "code",
      "source": [
        "!apt-get update\n",
        "!apt-get install -y libopencv-dev\n"
      ],
      "metadata": {
        "colab": {
          "base_uri": "https://localhost:8080/"
        },
        "id": "pkqMkZqsZs-S",
        "outputId": "446eff4c-e07b-4554-d5e2-e7b8d79e3301"
      },
      "execution_count": 34,
      "outputs": [
        {
          "output_type": "stream",
          "name": "stdout",
          "text": [
            "\r0% [Working]\r            \rGet:1 http://security.ubuntu.com/ubuntu jammy-security InRelease [129 kB]\n",
            "\r0% [Waiting for headers] [1 InRelease 2,588 B/129 kB 2%] [Waiting for headers] [Connecting to r2u.st\r                                                                                                    \rHit:2 http://archive.ubuntu.com/ubuntu jammy InRelease\n",
            "\r0% [Waiting for headers] [1 InRelease 43.1 kB/129 kB 33%] [Waiting for headers] [Connected to r2u.st\r                                                                                                    \rGet:3 http://archive.ubuntu.com/ubuntu jammy-updates InRelease [128 kB]\n",
            "\r                                                                                                    \rGet:4 https://cloud.r-project.org/bin/linux/ubuntu jammy-cran40/ InRelease [3,626 B]\n",
            "\r0% [3 InRelease 15.6 kB/128 kB 12%] [1 InRelease 46.0 kB/129 kB 36%] [Connected to r2u.stat.illinois\r                                                                                                    \rGet:5 https://developer.download.nvidia.com/compute/cuda/repos/ubuntu2204/x86_64  InRelease [1,581 B]\n",
            "\r0% [3 InRelease 47.5 kB/128 kB 37%] [1 InRelease 102 kB/129 kB 80%] [Waiting for headers] [5 InRelea\r0% [3 InRelease 47.5 kB/128 kB 37%] [1 InRelease 118 kB/129 kB 92%] [Waiting for headers] [Connected\r0% [3 InRelease 54.7 kB/128 kB 43%] [Waiting for headers] [Connected to ppa.launchpadcontent.net (18\r0% [Waiting for headers] [Waiting for headers] [Connected to ppa.launchpadcontent.net (185.125.190.8\r                                                                                                    \rGet:6 http://archive.ubuntu.com/ubuntu jammy-backports InRelease [127 kB]\n",
            "\r0% [6 InRelease 12.7 kB/127 kB 10%] [Waiting for headers] [Connected to ppa.launchpadcontent.net (18\r                                                                                                    \r0% [Waiting for headers] [Waiting for headers]\r                                              \rIgn:7 https://r2u.stat.illinois.edu/ubuntu jammy InRelease\n",
            "Get:8 https://r2u.stat.illinois.edu/ubuntu jammy Release [5,713 B]\n",
            "Get:9 https://r2u.stat.illinois.edu/ubuntu jammy Release.gpg [793 B]\n",
            "Get:10 https://developer.download.nvidia.com/compute/cuda/repos/ubuntu2204/x86_64  Packages [1,071 kB]\n",
            "Get:11 http://security.ubuntu.com/ubuntu jammy-security/main amd64 Packages [2,377 kB]\n",
            "Hit:12 https://ppa.launchpadcontent.net/deadsnakes/ppa/ubuntu jammy InRelease\n",
            "Get:13 http://archive.ubuntu.com/ubuntu jammy-updates/universe amd64 Packages [1,450 kB]\n",
            "Hit:14 https://ppa.launchpadcontent.net/graphics-drivers/ppa/ubuntu jammy InRelease\n",
            "Get:15 http://archive.ubuntu.com/ubuntu jammy-updates/main amd64 Packages [2,654 kB]\n",
            "Hit:16 https://ppa.launchpadcontent.net/ubuntugis/ppa/ubuntu jammy InRelease\n",
            "Get:17 https://r2u.stat.illinois.edu/ubuntu jammy/main all Packages [8,424 kB]\n",
            "Get:18 https://r2u.stat.illinois.edu/ubuntu jammy/main amd64 Packages [2,601 kB]\n",
            "Fetched 19.0 MB in 2s (8,437 kB/s)\n",
            "Reading package lists... Done\n",
            "W: Skipping acquire of configured file 'main/source/Sources' as repository 'https://r2u.stat.illinois.edu/ubuntu jammy InRelease' does not seem to provide it (sources.list entry misspelt?)\n",
            "Reading package lists... Done\n",
            "Building dependency tree... Done\n",
            "Reading state information... Done\n",
            "libopencv-dev is already the newest version (4.5.4+dfsg-9ubuntu4+jammy0).\n",
            "0 upgraded, 0 newly installed, 0 to remove and 50 not upgraded.\n"
          ]
        }
      ]
    },
    {
      "cell_type": "code",
      "source": [
        "import os\n",
        "os.environ[\"PKG_CONFIG_PATH\"] = \"/usr/lib/pkgconfig:/usr/local/lib/pkgconfig\"\n"
      ],
      "metadata": {
        "id": "Crd6FyVNZxAj"
      },
      "execution_count": 35,
      "outputs": []
    },
    {
      "cell_type": "code",
      "source": [
        "!cd /content/yolt && make\n"
      ],
      "metadata": {
        "colab": {
          "base_uri": "https://localhost:8080/"
        },
        "id": "uQSxYnL-Z1ZW",
        "outputId": "91cf475f-758f-49a6-fddd-bfc26f041b45"
      },
      "execution_count": 40,
      "outputs": [
        {
          "output_type": "stream",
          "name": "stdout",
          "text": [
            "gcc -DOPENCV `pkg-config --cflags opencv`  -DGPU -I/usr/local/cuda/include/ -DCUDNN  -Wall -Wfatal-errors  -Ofast -DOPENCV -DGPU -DCUDNN -c ./src/convolutional_layer.c -o obj/convolutional_layer.o\n",
            "Package opencv was not found in the pkg-config search path.\n",
            "Perhaps you should add the directory containing `opencv.pc'\n",
            "to the PKG_CONFIG_PATH environment variable\n",
            "Package 'opencv', required by 'virtual:world', not found\n",
            "\u001b[01m\u001b[K./src/convolutional_layer.c:\u001b[m\u001b[K In function ‘\u001b[01m\u001b[Kcudnn_convolutional_setup\u001b[m\u001b[K’:\n",
            "\u001b[01m\u001b[K./src/convolutional_layer.c:155:13:\u001b[m\u001b[K \u001b[01;35m\u001b[Kwarning: \u001b[m\u001b[Kpassing argument 8 of ‘\u001b[01m\u001b[KcudnnGetConvolutionForwardAlgorithm_v7\u001b[m\u001b[K’ from incompatible pointer type [\u001b[01;35m\u001b[K\u001b]8;;https://gcc.gnu.org/onlinedocs/gcc/Warning-Options.html#index-Wincompatible-pointer-types\u0007-Wincompatible-pointer-types\u001b]8;;\u0007\u001b[m\u001b[K]\n",
            "  155 |             \u001b[01;35m\u001b[K&l->fw_algo\u001b[m\u001b[K);\n",
            "      |             \u001b[01;35m\u001b[K^~~~~~~~~~~\u001b[m\u001b[K\n",
            "      |             \u001b[01;35m\u001b[K|\u001b[m\u001b[K\n",
            "      |             \u001b[01;35m\u001b[KcudnnConvolutionFwdAlgo_t *\u001b[m\u001b[K\n",
            "In file included from \u001b[01m\u001b[K/usr/include/cudnn.h:65\u001b[m\u001b[K,\n",
            "                 from \u001b[01m\u001b[K./src/cuda.h:15\u001b[m\u001b[K,\n",
            "                 from \u001b[01m\u001b[K./src/convolutional_layer.h:4\u001b[m\u001b[K,\n",
            "                 from \u001b[01m\u001b[K./src/convolutional_layer.c:1\u001b[m\u001b[K:\n",
            "\u001b[01m\u001b[K/usr/include/cudnn_cnn_infer.h:200:71:\u001b[m\u001b[K \u001b[01;36m\u001b[Knote: \u001b[m\u001b[Kexpected ‘\u001b[01m\u001b[KcudnnConvolutionFwdAlgoPerf_t *\u001b[m\u001b[K’ {aka ‘\u001b[01m\u001b[Kstruct cudnnConvolutionFwdAlgoPerfStruct *\u001b[m\u001b[K’} but argument is of type ‘\u001b[01m\u001b[KcudnnConvolutionFwdAlgo_t *\u001b[m\u001b[K’\n",
            "  200 |                                        \u001b[01;36m\u001b[KcudnnConvolutionFwdAlgoPerf_t *perfResults\u001b[m\u001b[K);\n",
            "      |                                        \u001b[01;36m\u001b[K~~~~~~~~~~~~~~~~~~~~~~~~~~~~~~~^~~~~~~~~~~\u001b[m\u001b[K\n",
            "\u001b[01m\u001b[K./src/convolutional_layer.c:156:5:\u001b[m\u001b[K \u001b[01;35m\u001b[Kwarning: \u001b[m\u001b[Kimplicit declaration of function ‘\u001b[01m\u001b[KcudnnGetConvolutionBackwardDataAlgorithm\u001b[m\u001b[K’; did you mean ‘\u001b[01m\u001b[KcudnnGetConvolutionBackwardDataAlgorithm_v7\u001b[m\u001b[K’? [\u001b[01;35m\u001b[K\u001b]8;;https://gcc.gnu.org/onlinedocs/gcc/Warning-Options.html#index-Wimplicit-function-declaration\u0007-Wimplicit-function-declaration\u001b]8;;\u0007\u001b[m\u001b[K]\n",
            "  156 |     \u001b[01;35m\u001b[KcudnnGetConvolutionBackwardDataAlgorithm\u001b[m\u001b[K(cudnn_handle(),\n",
            "      |     \u001b[01;35m\u001b[K^~~~~~~~~~~~~~~~~~~~~~~~~~~~~~~~~~~~~~~~\u001b[m\u001b[K\n",
            "      |     \u001b[32m\u001b[KcudnnGetConvolutionBackwardDataAlgorithm_v7\u001b[m\u001b[K\n",
            "\u001b[01m\u001b[K./src/convolutional_layer.c:161:13:\u001b[m\u001b[K \u001b[01;31m\u001b[Kerror: \u001b[m\u001b[K‘\u001b[01m\u001b[KCUDNN_CONVOLUTION_BWD_DATA_PREFER_FASTEST\u001b[m\u001b[K’ undeclared (first use in this function); did you mean ‘\u001b[01m\u001b[KCUDNN_CONVOLUTION_BWD_DATA_ALGO_FFT\u001b[m\u001b[K’?\n",
            "  161 |             \u001b[01;31m\u001b[KCUDNN_CONVOLUTION_BWD_DATA_PREFER_FASTEST\u001b[m\u001b[K,\n",
            "      |             \u001b[01;31m\u001b[K^~~~~~~~~~~~~~~~~~~~~~~~~~~~~~~~~~~~~~~~~\u001b[m\u001b[K\n",
            "      |             \u001b[32m\u001b[KCUDNN_CONVOLUTION_BWD_DATA_ALGO_FFT\u001b[m\u001b[K\n",
            "compilation terminated due to -Wfatal-errors.\n",
            "make: *** [Makefile:68: obj/convolutional_layer.o] Error 1\n"
          ]
        }
      ]
    },
    {
      "cell_type": "code",
      "source": [
        "import os\n",
        "os.environ[\"PKG_CONFIG_PATH\"] = \"/usr/lib/pkgconfig:/usr/local/lib/pkgconfig\"\n"
      ],
      "metadata": {
        "id": "eHvLH9BXaCxV"
      },
      "execution_count": 37,
      "outputs": []
    },
    {
      "cell_type": "code",
      "source": [],
      "metadata": {
        "id": "v_2YBJTaaEJe"
      },
      "execution_count": null,
      "outputs": []
    }
  ]
}